{
 "cells": [
  {
   "cell_type": "code",
   "execution_count": 1,
   "metadata": {
    "collapsed": true
   },
   "outputs": [],
   "source": [
    "import tkinter as tk"
   ]
  },
  {
   "cell_type": "code",
   "execution_count": 2,
   "metadata": {
    "collapsed": true
   },
   "outputs": [],
   "source": [
    "prog_name = \"Footprint Editor\""
   ]
  },
  {
   "cell_type": "code",
   "execution_count": 17,
   "metadata": {},
   "outputs": [
    {
     "data": {
      "text/plain": [
       "''"
      ]
     },
     "execution_count": 17,
     "metadata": {},
     "output_type": "execute_result"
    }
   ],
   "source": [
    "root = tk.Tk()\n",
    "root.geometry('350x350')\n",
    "root.title(prog_name)"
   ]
  },
  {
   "cell_type": "code",
   "execution_count": 18,
   "metadata": {
    "collapsed": true
   },
   "outputs": [],
   "source": [
    "new_file_icon = tk.PhotoImage(file='icons/new_file.gif')\n",
    "open_file_icon = tk.PhotoImage(file='icons/open_file.gif')\n",
    "save_file_icon = tk.PhotoImage(file='icons/save.gif')\n",
    "cut_icon = tk.PhotoImage(file='icons/cut.gif')\n",
    "copy_icon = tk.PhotoImage(file='icons/copy.gif')\n",
    "paste_icon = tk.PhotoImage(file='icons/paste.gif')\n",
    "undo_icon = tk.PhotoImage(file='icons/undo.gif')\n",
    "redo_icon = tk.PhotoImage(file='icons/redo.gif')"
   ]
  },
  {
   "cell_type": "code",
   "execution_count": 19,
   "metadata": {
    "collapsed": true
   },
   "outputs": [],
   "source": [
    "#cria o Widget Menu\n",
    "top_menu = tk.Menu(root)"
   ]
  },
  {
   "cell_type": "code",
   "execution_count": 20,
   "metadata": {},
   "outputs": [],
   "source": [
    "#definições do item FILE\n",
    "file_menu = tk.Menu(top_menu, tearoff=0)\n",
    "\n",
    "file_menu.add_command(label=\"New\", accelerator='Ctrl+N', compound='left' , image=new_file_icon ,  underline=0)\n",
    "file_menu.add_command(label=\"Open\", accelerator='Ctrl+O', compound='left' , image=open_file_icon ,  underline=0)\n",
    "file_menu.add_command(label=\"Save\", accelerator='Ctrl+S', compound='left' , image=save_file_icon ,  underline=0)\n",
    "file_menu.add_command(label=\"Save as...\", accelerator='Ctrl+Shift+S', compound='left',  underline=0)\n",
    "file_menu.add_command(label=\"Exit\", accelerator='Alt+F4', compound='left',  underline=0)\n",
    "\n",
    "top_menu.add_cascade(label='File', menu=file_menu)\n",
    "\n",
    "#definições do item Edit\n",
    "edit_menu = tk.Menu(top_menu, tearoff=0)\n",
    "\n",
    "edit_menu.add_command(label=\"Undo\", accelerator='Ctrl+Z', compound='left')\n",
    "edit_menu.add_command(label=\"Redo\", accelerator='Ctrl+R', compound='left', underline = 0)\n",
    "edit_menu.add_command(label=\"Undo\", accelerator='Ctrl+Z', compound='left')\n",
    "edit_menu.add_command(label=\"Cut\", accelerator='Ctrl+X', compound='left')\n",
    "edit_menu.add_command(label=\"Copy\", accelerator='Ctrl+C', compound='left')\n",
    "edit_menu.add_command(label=\"Paste\", accelerator='Ctrl+V', compound='left')\n",
    "edit_menu.add_command(label=\"Find\", accelerator='Ctrl+F', compound='left', underline = 0)\n",
    "edit_menu.add_command(label=\"Select All\", accelerator='Ctrl+R', compound='left', underline = 0)\n",
    "\n",
    "top_menu.add_cascade(label='Edit', menu=edit_menu)\n",
    "\n",
    "#definições do item View\n",
    "view_menu = tk.Menu(top_menu, tearoff=0)\n",
    "top_menu.add_cascade(label='View', menu=view_menu)\n",
    "\n",
    "#definições do item About\n",
    "about_menu = tk.Menu(top_menu, tearoff=0)\n",
    "top_menu.add_cascade(label='About', menu=about_menu)\n",
    "\n",
    "root.config(menu=top_menu)\n",
    "root.mainloop()"
   ]
  },
  {
   "cell_type": "code",
   "execution_count": 9,
   "metadata": {
    "collapsed": true
   },
   "outputs": [],
   "source": []
  },
  {
   "cell_type": "code",
   "execution_count": null,
   "metadata": {
    "collapsed": true
   },
   "outputs": [],
   "source": []
  }
 ],
 "metadata": {
  "kernelspec": {
   "display_name": "Python 3",
   "language": "python",
   "name": "python3"
  },
  "language_info": {
   "codemirror_mode": {
    "name": "ipython",
    "version": 3
   },
   "file_extension": ".py",
   "mimetype": "text/x-python",
   "name": "python",
   "nbconvert_exporter": "python",
   "pygments_lexer": "ipython3",
   "version": "3.6.0"
  }
 },
 "nbformat": 4,
 "nbformat_minor": 2
}
